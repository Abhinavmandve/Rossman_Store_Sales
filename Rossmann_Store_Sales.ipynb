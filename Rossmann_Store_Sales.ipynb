{
 "cells": [
  {
   "cell_type": "markdown",
   "metadata": {
    "id": "K6dWoliGADo_"
   },
   "source": [
    "Assignment\n",
    "\n",
    "\n",
    "Link: https://www.kaggle.com/c/rossmann-store-sales\n",
    "\n",
    "Perform the following tasks:\n",
    "1.\tExtract the features which you find suitable.\n",
    "2.\tCreate any 3 graphs of your choice which can be worth interpretable\n",
    "3.\tBuild a regression model using Sales as response variable with\n",
    "a.\tK-NN Regression (best k)\n",
    "b.\tLinear Regression\n",
    "c.\tRidge Regression\n",
    "d.\tLasso Regression\n",
    "e.\tDecision Tree Regression\n",
    "\n",
    "Which score is better on the leader board among all the above algorithms tried?\n"
   ]
  },
  {
   "cell_type": "markdown",
   "metadata": {
    "id": "EIN2ANRJHCqr"
   },
   "source": [
    "### CSV Files:\n",
    "\n",
    "/content/store.csv\n",
    "\n",
    "/content/train.csv\n",
    "\n",
    "/content/test.csv\n",
    "\n",
    "/content/sample_submission.csv\n",
    "\n",
    "Target Variable: Sales"
   ]
  },
  {
   "cell_type": "markdown",
   "metadata": {
    "id": "4-G_UYWKXjqJ"
   },
   "source": [
    "### Import required modules"
   ]
  },
  {
   "cell_type": "code",
   "execution_count": 1,
   "metadata": {
    "id": "ea0282ed"
   },
   "outputs": [],
   "source": [
    "import pandas as pd\n",
    "import numpy as np\n",
    "import matplotlib.pyplot as plt\n",
    "from sklearn.model_selection import KFold\n",
    "from sklearn.model_selection import GridSearchCV\n",
    "from sklearn.linear_model import LinearRegression\n",
    "from sklearn.neighbors import KNeighborsRegressor\n",
    "from sklearn.linear_model import Lasso\n",
    "from sklearn.linear_model import Ridge\n",
    "from sklearn.tree import DecisionTreeRegressor\n",
    "from sklearn.model_selection import cross_val_score"
   ]
  },
  {
   "cell_type": "code",
   "execution_count": 2,
   "metadata": {
    "id": "64793d3f"
   },
   "outputs": [],
   "source": [
    "#Suppress Warning for clean notebook\n",
    "import warnings\n",
    "warnings.filterwarnings(\"ignore\")"
   ]
  },
  {
   "cell_type": "code",
   "execution_count": 6,
   "metadata": {
    "colab": {
     "base_uri": "https://localhost:8080/",
     "height": 493
    },
    "id": "UT7XofHMeXhK",
    "outputId": "98344fa6-844a-4648-f3b6-4ffce9992172"
   },
   "outputs": [
    {
     "data": {
      "text/plain": [
       "(1017209, 9)"
      ]
     },
     "execution_count": 6,
     "metadata": {},
     "output_type": "execute_result"
    }
   ],
   "source": [
    "train = pd.read_csv(r'C:\\Users\\Abhinav\\C-DAC\\Machine Learning\\Data files Extra\\rossmann-store-sales\\train.csv',parse_dates=[\"Date\"])\n",
    "train.shape\n"
   ]
  },
  {
   "cell_type": "code",
   "execution_count": 7,
   "metadata": {
    "colab": {
     "base_uri": "https://localhost:8080/",
     "height": 319
    },
    "id": "vrLy3oeDvrsR",
    "outputId": "20813ecd-b0f4-4936-81aa-b1d8e95b2370"
   },
   "outputs": [
    {
     "data": {
      "text/html": [
       "<div>\n",
       "<style scoped>\n",
       "    .dataframe tbody tr th:only-of-type {\n",
       "        vertical-align: middle;\n",
       "    }\n",
       "\n",
       "    .dataframe tbody tr th {\n",
       "        vertical-align: top;\n",
       "    }\n",
       "\n",
       "    .dataframe thead th {\n",
       "        text-align: right;\n",
       "    }\n",
       "</style>\n",
       "<table border=\"1\" class=\"dataframe\">\n",
       "  <thead>\n",
       "    <tr style=\"text-align: right;\">\n",
       "      <th></th>\n",
       "      <th>Store</th>\n",
       "      <th>DayOfWeek</th>\n",
       "      <th>Sales</th>\n",
       "      <th>Customers</th>\n",
       "      <th>Open</th>\n",
       "      <th>Promo</th>\n",
       "      <th>SchoolHoliday</th>\n",
       "    </tr>\n",
       "  </thead>\n",
       "  <tbody>\n",
       "    <tr>\n",
       "      <th>count</th>\n",
       "      <td>1.017209e+06</td>\n",
       "      <td>1.017209e+06</td>\n",
       "      <td>1.017209e+06</td>\n",
       "      <td>1.017209e+06</td>\n",
       "      <td>1.017209e+06</td>\n",
       "      <td>1.017209e+06</td>\n",
       "      <td>1.017209e+06</td>\n",
       "    </tr>\n",
       "    <tr>\n",
       "      <th>mean</th>\n",
       "      <td>5.584297e+02</td>\n",
       "      <td>3.998341e+00</td>\n",
       "      <td>5.773819e+03</td>\n",
       "      <td>6.331459e+02</td>\n",
       "      <td>8.301067e-01</td>\n",
       "      <td>3.815145e-01</td>\n",
       "      <td>1.786467e-01</td>\n",
       "    </tr>\n",
       "    <tr>\n",
       "      <th>std</th>\n",
       "      <td>3.219087e+02</td>\n",
       "      <td>1.997391e+00</td>\n",
       "      <td>3.849926e+03</td>\n",
       "      <td>4.644117e+02</td>\n",
       "      <td>3.755392e-01</td>\n",
       "      <td>4.857586e-01</td>\n",
       "      <td>3.830564e-01</td>\n",
       "    </tr>\n",
       "    <tr>\n",
       "      <th>min</th>\n",
       "      <td>1.000000e+00</td>\n",
       "      <td>1.000000e+00</td>\n",
       "      <td>0.000000e+00</td>\n",
       "      <td>0.000000e+00</td>\n",
       "      <td>0.000000e+00</td>\n",
       "      <td>0.000000e+00</td>\n",
       "      <td>0.000000e+00</td>\n",
       "    </tr>\n",
       "    <tr>\n",
       "      <th>25%</th>\n",
       "      <td>2.800000e+02</td>\n",
       "      <td>2.000000e+00</td>\n",
       "      <td>3.727000e+03</td>\n",
       "      <td>4.050000e+02</td>\n",
       "      <td>1.000000e+00</td>\n",
       "      <td>0.000000e+00</td>\n",
       "      <td>0.000000e+00</td>\n",
       "    </tr>\n",
       "    <tr>\n",
       "      <th>50%</th>\n",
       "      <td>5.580000e+02</td>\n",
       "      <td>4.000000e+00</td>\n",
       "      <td>5.744000e+03</td>\n",
       "      <td>6.090000e+02</td>\n",
       "      <td>1.000000e+00</td>\n",
       "      <td>0.000000e+00</td>\n",
       "      <td>0.000000e+00</td>\n",
       "    </tr>\n",
       "    <tr>\n",
       "      <th>75%</th>\n",
       "      <td>8.380000e+02</td>\n",
       "      <td>6.000000e+00</td>\n",
       "      <td>7.856000e+03</td>\n",
       "      <td>8.370000e+02</td>\n",
       "      <td>1.000000e+00</td>\n",
       "      <td>1.000000e+00</td>\n",
       "      <td>0.000000e+00</td>\n",
       "    </tr>\n",
       "    <tr>\n",
       "      <th>max</th>\n",
       "      <td>1.115000e+03</td>\n",
       "      <td>7.000000e+00</td>\n",
       "      <td>4.155100e+04</td>\n",
       "      <td>7.388000e+03</td>\n",
       "      <td>1.000000e+00</td>\n",
       "      <td>1.000000e+00</td>\n",
       "      <td>1.000000e+00</td>\n",
       "    </tr>\n",
       "  </tbody>\n",
       "</table>\n",
       "</div>"
      ],
      "text/plain": [
       "              Store     DayOfWeek         Sales     Customers          Open  \\\n",
       "count  1.017209e+06  1.017209e+06  1.017209e+06  1.017209e+06  1.017209e+06   \n",
       "mean   5.584297e+02  3.998341e+00  5.773819e+03  6.331459e+02  8.301067e-01   \n",
       "std    3.219087e+02  1.997391e+00  3.849926e+03  4.644117e+02  3.755392e-01   \n",
       "min    1.000000e+00  1.000000e+00  0.000000e+00  0.000000e+00  0.000000e+00   \n",
       "25%    2.800000e+02  2.000000e+00  3.727000e+03  4.050000e+02  1.000000e+00   \n",
       "50%    5.580000e+02  4.000000e+00  5.744000e+03  6.090000e+02  1.000000e+00   \n",
       "75%    8.380000e+02  6.000000e+00  7.856000e+03  8.370000e+02  1.000000e+00   \n",
       "max    1.115000e+03  7.000000e+00  4.155100e+04  7.388000e+03  1.000000e+00   \n",
       "\n",
       "              Promo  SchoolHoliday  \n",
       "count  1.017209e+06   1.017209e+06  \n",
       "mean   3.815145e-01   1.786467e-01  \n",
       "std    4.857586e-01   3.830564e-01  \n",
       "min    0.000000e+00   0.000000e+00  \n",
       "25%    0.000000e+00   0.000000e+00  \n",
       "50%    0.000000e+00   0.000000e+00  \n",
       "75%    1.000000e+00   0.000000e+00  \n",
       "max    1.000000e+00   1.000000e+00  "
      ]
     },
     "execution_count": 7,
     "metadata": {},
     "output_type": "execute_result"
    }
   ],
   "source": [
    "train.describe()"
   ]
  },
  {
   "cell_type": "code",
   "execution_count": 8,
   "metadata": {
    "id": "xMQeetMyeck7"
   },
   "outputs": [],
   "source": [
    "test = pd.read_csv(r'C:\\Users\\Abhinav\\C-DAC\\Machine Learning\\Data files Extra\\rossmann-store-sales\\test.csv',parse_dates=[\"Date\"])"
   ]
  },
  {
   "cell_type": "code",
   "execution_count": 9,
   "metadata": {
    "colab": {
     "base_uri": "https://localhost:8080/"
    },
    "id": "UW-zMGGVejDn",
    "outputId": "4fa9ae30-bdb1-4edd-b375-b97abb4d871a"
   },
   "outputs": [
    {
     "data": {
      "text/plain": [
       "Store            0\n",
       "DayOfWeek        0\n",
       "Date             0\n",
       "Sales            0\n",
       "Customers        0\n",
       "Open             0\n",
       "Promo            0\n",
       "StateHoliday     0\n",
       "SchoolHoliday    0\n",
       "dtype: int64"
      ]
     },
     "execution_count": 9,
     "metadata": {},
     "output_type": "execute_result"
    }
   ],
   "source": [
    "train.isnull().sum() #Checking total NaN values in each column"
   ]
  },
  {
   "cell_type": "code",
   "execution_count": 10,
   "metadata": {
    "colab": {
     "base_uri": "https://localhost:8080/"
    },
    "id": "azlJkczue0pZ",
    "outputId": "ae5ad207-083b-4c99-a285-1ce3174ab2e4"
   },
   "outputs": [
    {
     "data": {
      "text/plain": [
       "Id                0\n",
       "Store             0\n",
       "DayOfWeek         0\n",
       "Date              0\n",
       "Open             11\n",
       "Promo             0\n",
       "StateHoliday      0\n",
       "SchoolHoliday     0\n",
       "dtype: int64"
      ]
     },
     "execution_count": 10,
     "metadata": {},
     "output_type": "execute_result"
    }
   ],
   "source": [
    "test.isnull().sum() #Checking total NaN values in each column"
   ]
  },
  {
   "cell_type": "markdown",
   "metadata": {
    "id": "WrsDdkCpfLbz"
   },
   "source": [
    "we can see there are NaN values in \"Open\" column"
   ]
  },
  {
   "cell_type": "code",
   "execution_count": 11,
   "metadata": {
    "colab": {
     "base_uri": "https://localhost:8080/"
    },
    "id": "hKQM0P0We5AN",
    "outputId": "8a57c2af-a84c-44fb-d21c-532795ee04e7"
   },
   "outputs": [
    {
     "data": {
      "text/plain": [
       "1.0    35093\n",
       "0.0     5984\n",
       "Name: Open, dtype: int64"
      ]
     },
     "execution_count": 11,
     "metadata": {},
     "output_type": "execute_result"
    }
   ],
   "source": [
    "test['Open'].value_counts()"
   ]
  },
  {
   "cell_type": "code",
   "execution_count": 12,
   "metadata": {
    "id": "2j1jdlb-fENn"
   },
   "outputs": [],
   "source": [
    "#Filling NaN values in Open column\n",
    "\n",
    "test['Open'].fillna(method='ffill',inplace=True)"
   ]
  },
  {
   "cell_type": "code",
   "execution_count": 13,
   "metadata": {
    "colab": {
     "base_uri": "https://localhost:8080/"
    },
    "id": "3O318GL_gm64",
    "outputId": "69e19796-8d42-4324-d64e-4bf9f8b879e3"
   },
   "outputs": [
    {
     "name": "stdout",
     "output_type": "stream",
     "text": [
      "<class 'pandas.core.frame.DataFrame'>\n",
      "RangeIndex: 1017209 entries, 0 to 1017208\n",
      "Data columns (total 9 columns):\n",
      " #   Column         Non-Null Count    Dtype         \n",
      "---  ------         --------------    -----         \n",
      " 0   Store          1017209 non-null  int64         \n",
      " 1   DayOfWeek      1017209 non-null  int64         \n",
      " 2   Date           1017209 non-null  datetime64[ns]\n",
      " 3   Sales          1017209 non-null  int64         \n",
      " 4   Customers      1017209 non-null  int64         \n",
      " 5   Open           1017209 non-null  int64         \n",
      " 6   Promo          1017209 non-null  int64         \n",
      " 7   StateHoliday   1017209 non-null  object        \n",
      " 8   SchoolHoliday  1017209 non-null  int64         \n",
      "dtypes: datetime64[ns](1), int64(7), object(1)\n",
      "memory usage: 69.8+ MB\n"
     ]
    }
   ],
   "source": [
    "train.info()"
   ]
  },
  {
   "cell_type": "code",
   "execution_count": 14,
   "metadata": {
    "colab": {
     "base_uri": "https://localhost:8080/"
    },
    "id": "AKImMaKRfUw-",
    "outputId": "cdc9ad02-7353-434f-8398-a5a0a1eb4db1"
   },
   "outputs": [
    {
     "name": "stdout",
     "output_type": "stream",
     "text": [
      "<class 'pandas.core.frame.DataFrame'>\n",
      "RangeIndex: 41088 entries, 0 to 41087\n",
      "Data columns (total 8 columns):\n",
      " #   Column         Non-Null Count  Dtype         \n",
      "---  ------         --------------  -----         \n",
      " 0   Id             41088 non-null  int64         \n",
      " 1   Store          41088 non-null  int64         \n",
      " 2   DayOfWeek      41088 non-null  int64         \n",
      " 3   Date           41088 non-null  datetime64[ns]\n",
      " 4   Open           41088 non-null  float64       \n",
      " 5   Promo          41088 non-null  int64         \n",
      " 6   StateHoliday   41088 non-null  object        \n",
      " 7   SchoolHoliday  41088 non-null  int64         \n",
      "dtypes: datetime64[ns](1), float64(1), int64(5), object(1)\n",
      "memory usage: 2.5+ MB\n"
     ]
    }
   ],
   "source": [
    "test.info()"
   ]
  },
  {
   "cell_type": "code",
   "execution_count": 15,
   "metadata": {
    "id": "_l4GXR5NfZ46"
   },
   "outputs": [],
   "source": [
    "test['year']=test['Date'].dt.year\n",
    "test['month']=test['Date'].dt.month\n",
    "test['day']=test['Date'].dt.day\n",
    "train['year']=train['Date'].dt.year\n",
    "train['month']=train['Date'].dt.month\n",
    "train['day']=train['Date'].dt.day"
   ]
  },
  {
   "cell_type": "code",
   "execution_count": 16,
   "metadata": {
    "colab": {
     "base_uri": "https://localhost:8080/",
     "height": 513
    },
    "id": "GPvtVhdyV8le",
    "outputId": "030f249e-ffea-4914-e73c-92aa14416d92"
   },
   "outputs": [
    {
     "data": {
      "image/png": "[encoded data removed]",
      "text/plain": [
       "<Figure size 1296x576 with 1 Axes>"
      ]
     },
     "metadata": {
      "needs_background": "light"
     },
     "output_type": "display_data"
    }
   ],
   "source": [
    "import matplotlib.pyplot as plt\n",
    "\n",
    "import seaborn as sns\n",
    "plt.figure(figsize=(18,8))\n",
    "temp_train = train.groupby(train.month).sum()\n",
    "sns.set_style(\"dark\")\n",
    "sns.barplot(temp_train.index,temp_train.Sales)\n",
    "\n",
    "plt.title(\"Sale vs Month\")\n",
    "plt.xlabel('Month')\n",
    "plt.ylabel('Sales')\n",
    "plt.show()\n"
   ]
  },
  {
   "cell_type": "code",
   "execution_count": 17,
   "metadata": {
    "colab": {
     "base_uri": "https://localhost:8080/",
     "height": 294
    },
    "id": "xctWtcFyvgEk",
    "outputId": "750d1b09-c5a5-4475-e8bb-4bc8cbc6768e"
   },
   "outputs": [
    {
     "data": {
      "image/png": "[encoded data removed]",
      "text/plain": [
       "<Figure size 432x288 with 1 Axes>"
      ]
     },
     "metadata": {},
     "output_type": "display_data"
    }
   ],
   "source": [
    "temp_train = train.groupby(train.day).sum()\n",
    "sns.set_style(\"dark\")\n",
    "\n",
    "sns.barplot(temp_train.index,temp_train.Sales)\n",
    "plt.title(\"Sale vs Day\")\n",
    "plt.xlabel('Day')\n",
    "plt.ylabel('Sales')\n",
    "plt.show()"
   ]
  },
  {
   "cell_type": "code",
   "execution_count": 18,
   "metadata": {
    "colab": {
     "base_uri": "https://localhost:8080/",
     "height": 513
    },
    "id": "WknzA89lWLML",
    "outputId": "1176ccc1-eb24-44ff-b448-59fda6f7b4d9"
   },
   "outputs": [
    {
     "data": {
      "image/png": "[encoded data removed]",
      "text/plain": [
       "<Figure size 1296x576 with 1 Axes>"
      ]
     },
     "metadata": {},
     "output_type": "display_data"
    }
   ],
   "source": [
    "import seaborn as sns\n",
    "plt.figure(figsize=(18,8))\n",
    "temp_train = train.groupby(train.year).sum()\n",
    "sns.barplot(temp_train.index,temp_train.Sales)\n",
    "plt.title(\"Total SALE in Each Year\")\n",
    "plt.xlabel('Year')\n",
    "plt.ylabel('Sales')\n",
    "plt.show()"
   ]
  },
  {
   "cell_type": "markdown",
   "metadata": {
    "id": "TeoL1Jfkv09B"
   },
   "source": [
    "Maximum total sales in the 2013"
   ]
  },
  {
   "cell_type": "code",
   "execution_count": 19,
   "metadata": {
    "id": "qOjRdQtQf7Cx"
   },
   "outputs": [],
   "source": [
    "X = train.drop(columns=['Date','Sales','Customers'])\n",
    "Y = train['Sales']"
   ]
  },
  {
   "cell_type": "code",
   "execution_count": 20,
   "metadata": {
    "id": "qpgPpPn8gGIq"
   },
   "outputs": [],
   "source": [
    "# to replace String 0 with int 0 , repetative values\n",
    "\n",
    "X['StateHoliday'].replace(to_replace=0, value='0', inplace=True, limit=None, regex=False, method='pad')\n"
   ]
  },
  {
   "cell_type": "code",
   "execution_count": 21,
   "metadata": {
    "colab": {
     "base_uri": "https://localhost:8080/"
    },
    "id": "1QUloiGPbDn5",
    "outputId": "4856fd8c-5f9d-42c1-c0ed-44c2d67f27dd"
   },
   "outputs": [
    {
     "data": {
      "text/plain": [
       "array(['0', 'a', 'b', 'c'], dtype=object)"
      ]
     },
     "execution_count": 21,
     "metadata": {},
     "output_type": "execute_result"
    }
   ],
   "source": [
    "X['StateHoliday'].unique()"
   ]
  },
  {
   "cell_type": "code",
   "execution_count": 22,
   "metadata": {
    "id": "y9dDqqgxgJPZ"
   },
   "outputs": [],
   "source": [
    "X = pd.get_dummies(X,drop_first=True)"
   ]
  },
  {
   "cell_type": "code",
   "execution_count": 23,
   "metadata": {
    "colab": {
     "base_uri": "https://localhost:8080/",
     "height": 414
    },
    "id": "lHHH-8gnbMWB",
    "outputId": "cfde32fc-541d-48af-c36c-fcdcaa90a1e4"
   },
   "outputs": [
    {
     "data": {
      "text/html": [
       "<div>\n",
       "<style scoped>\n",
       "    .dataframe tbody tr th:only-of-type {\n",
       "        vertical-align: middle;\n",
       "    }\n",
       "\n",
       "    .dataframe tbody tr th {\n",
       "        vertical-align: top;\n",
       "    }\n",
       "\n",
       "    .dataframe thead th {\n",
       "        text-align: right;\n",
       "    }\n",
       "</style>\n",
       "<table border=\"1\" class=\"dataframe\">\n",
       "  <thead>\n",
       "    <tr style=\"text-align: right;\">\n",
       "      <th></th>\n",
       "      <th>Store</th>\n",
       "      <th>DayOfWeek</th>\n",
       "      <th>Open</th>\n",
       "      <th>Promo</th>\n",
       "      <th>SchoolHoliday</th>\n",
       "      <th>year</th>\n",
       "      <th>month</th>\n",
       "      <th>day</th>\n",
       "      <th>StateHoliday_a</th>\n",
       "      <th>StateHoliday_b</th>\n",
       "      <th>StateHoliday_c</th>\n",
       "    </tr>\n",
       "  </thead>\n",
       "  <tbody>\n",
       "    <tr>\n",
       "      <th>0</th>\n",
       "      <td>1</td>\n",
       "      <td>5</td>\n",
       "      <td>1</td>\n",
       "      <td>1</td>\n",
       "      <td>1</td>\n",
       "      <td>2015</td>\n",
       "      <td>7</td>\n",
       "      <td>31</td>\n",
       "      <td>0</td>\n",
       "      <td>0</td>\n",
       "      <td>0</td>\n",
       "    </tr>\n",
       "    <tr>\n",
       "      <th>1</th>\n",
       "      <td>2</td>\n",
       "      <td>5</td>\n",
       "      <td>1</td>\n",
       "      <td>1</td>\n",
       "      <td>1</td>\n",
       "      <td>2015</td>\n",
       "      <td>7</td>\n",
       "      <td>31</td>\n",
       "      <td>0</td>\n",
       "      <td>0</td>\n",
       "      <td>0</td>\n",
       "    </tr>\n",
       "    <tr>\n",
       "      <th>2</th>\n",
       "      <td>3</td>\n",
       "      <td>5</td>\n",
       "      <td>1</td>\n",
       "      <td>1</td>\n",
       "      <td>1</td>\n",
       "      <td>2015</td>\n",
       "      <td>7</td>\n",
       "      <td>31</td>\n",
       "      <td>0</td>\n",
       "      <td>0</td>\n",
       "      <td>0</td>\n",
       "    </tr>\n",
       "    <tr>\n",
       "      <th>3</th>\n",
       "      <td>4</td>\n",
       "      <td>5</td>\n",
       "      <td>1</td>\n",
       "      <td>1</td>\n",
       "      <td>1</td>\n",
       "      <td>2015</td>\n",
       "      <td>7</td>\n",
       "      <td>31</td>\n",
       "      <td>0</td>\n",
       "      <td>0</td>\n",
       "      <td>0</td>\n",
       "    </tr>\n",
       "    <tr>\n",
       "      <th>4</th>\n",
       "      <td>5</td>\n",
       "      <td>5</td>\n",
       "      <td>1</td>\n",
       "      <td>1</td>\n",
       "      <td>1</td>\n",
       "      <td>2015</td>\n",
       "      <td>7</td>\n",
       "      <td>31</td>\n",
       "      <td>0</td>\n",
       "      <td>0</td>\n",
       "      <td>0</td>\n",
       "    </tr>\n",
       "    <tr>\n",
       "      <th>...</th>\n",
       "      <td>...</td>\n",
       "      <td>...</td>\n",
       "      <td>...</td>\n",
       "      <td>...</td>\n",
       "      <td>...</td>\n",
       "      <td>...</td>\n",
       "      <td>...</td>\n",
       "      <td>...</td>\n",
       "      <td>...</td>\n",
       "      <td>...</td>\n",
       "      <td>...</td>\n",
       "    </tr>\n",
       "    <tr>\n",
       "      <th>1017204</th>\n",
       "      <td>1111</td>\n",
       "      <td>2</td>\n",
       "      <td>0</td>\n",
       "      <td>0</td>\n",
       "      <td>1</td>\n",
       "      <td>2013</td>\n",
       "      <td>1</td>\n",
       "      <td>1</td>\n",
       "      <td>1</td>\n",
       "      <td>0</td>\n",
       "      <td>0</td>\n",
       "    </tr>\n",
       "    <tr>\n",
       "      <th>1017205</th>\n",
       "      <td>1112</td>\n",
       "      <td>2</td>\n",
       "      <td>0</td>\n",
       "      <td>0</td>\n",
       "      <td>1</td>\n",
       "      <td>2013</td>\n",
       "      <td>1</td>\n",
       "      <td>1</td>\n",
       "      <td>1</td>\n",
       "      <td>0</td>\n",
       "      <td>0</td>\n",
       "    </tr>\n",
       "    <tr>\n",
       "      <th>1017206</th>\n",
       "      <td>1113</td>\n",
       "      <td>2</td>\n",
       "      <td>0</td>\n",
       "      <td>0</td>\n",
       "      <td>1</td>\n",
       "      <td>2013</td>\n",
       "      <td>1</td>\n",
       "      <td>1</td>\n",
       "      <td>1</td>\n",
       "      <td>0</td>\n",
       "      <td>0</td>\n",
       "    </tr>\n",
       "    <tr>\n",
       "      <th>1017207</th>\n",
       "      <td>1114</td>\n",
       "      <td>2</td>\n",
       "      <td>0</td>\n",
       "      <td>0</td>\n",
       "      <td>1</td>\n",
       "      <td>2013</td>\n",
       "      <td>1</td>\n",
       "      <td>1</td>\n",
       "      <td>1</td>\n",
       "      <td>0</td>\n",
       "      <td>0</td>\n",
       "    </tr>\n",
       "    <tr>\n",
       "      <th>1017208</th>\n",
       "      <td>1115</td>\n",
       "      <td>2</td>\n",
       "      <td>0</td>\n",
       "      <td>0</td>\n",
       "      <td>1</td>\n",
       "      <td>2013</td>\n",
       "      <td>1</td>\n",
       "      <td>1</td>\n",
       "      <td>1</td>\n",
       "      <td>0</td>\n",
       "      <td>0</td>\n",
       "    </tr>\n",
       "  </tbody>\n",
       "</table>\n",
       "<p>1017209 rows × 11 columns</p>\n",
       "</div>"
      ],
      "text/plain": [
       "         Store  DayOfWeek  Open  Promo  SchoolHoliday  year  month  day  \\\n",
       "0            1          5     1      1              1  2015      7   31   \n",
       "1            2          5     1      1              1  2015      7   31   \n",
       "2            3          5     1      1              1  2015      7   31   \n",
       "3            4          5     1      1              1  2015      7   31   \n",
       "4            5          5     1      1              1  2015      7   31   \n",
       "...        ...        ...   ...    ...            ...   ...    ...  ...   \n",
       "1017204   1111          2     0      0              1  2013      1    1   \n",
       "1017205   1112          2     0      0              1  2013      1    1   \n",
       "1017206   1113          2     0      0              1  2013      1    1   \n",
       "1017207   1114          2     0      0              1  2013      1    1   \n",
       "1017208   1115          2     0      0              1  2013      1    1   \n",
       "\n",
       "         StateHoliday_a  StateHoliday_b  StateHoliday_c  \n",
       "0                     0               0               0  \n",
       "1                     0               0               0  \n",
       "2                     0               0               0  \n",
       "3                     0               0               0  \n",
       "4                     0               0               0  \n",
       "...                 ...             ...             ...  \n",
       "1017204               1               0               0  \n",
       "1017205               1               0               0  \n",
       "1017206               1               0               0  \n",
       "1017207               1               0               0  \n",
       "1017208               1               0               0  \n",
       "\n",
       "[1017209 rows x 11 columns]"
      ]
     },
     "execution_count": 23,
     "metadata": {},
     "output_type": "execute_result"
    }
   ],
   "source": [
    "X"
   ]
  },
  {
   "cell_type": "code",
   "execution_count": 24,
   "metadata": {
    "colab": {
     "base_uri": "https://localhost:8080/"
    },
    "id": "cdD6Gf5fqWpe",
    "outputId": "4045305b-4fa8-4f56-ee83-cebc1fbc9d6e"
   },
   "outputs": [
    {
     "name": "stdout",
     "output_type": "stream",
     "text": [
      "<class 'pandas.core.frame.DataFrame'>\n",
      "RangeIndex: 1017209 entries, 0 to 1017208\n",
      "Data columns (total 11 columns):\n",
      " #   Column          Non-Null Count    Dtype\n",
      "---  ------          --------------    -----\n",
      " 0   Store           1017209 non-null  int64\n",
      " 1   DayOfWeek       1017209 non-null  int64\n",
      " 2   Open            1017209 non-null  int64\n",
      " 3   Promo           1017209 non-null  int64\n",
      " 4   SchoolHoliday   1017209 non-null  int64\n",
      " 5   year            1017209 non-null  int64\n",
      " 6   month           1017209 non-null  int64\n",
      " 7   day             1017209 non-null  int64\n",
      " 8   StateHoliday_a  1017209 non-null  uint8\n",
      " 9   StateHoliday_b  1017209 non-null  uint8\n",
      " 10  StateHoliday_c  1017209 non-null  uint8\n",
      "dtypes: int64(8), uint8(3)\n",
      "memory usage: 65.0 MB\n"
     ]
    }
   ],
   "source": [
    "X.info()"
   ]
  },
  {
   "cell_type": "code",
   "execution_count": 25,
   "metadata": {
    "id": "Vu0EmiCFnrd8"
   },
   "outputs": [],
   "source": [
    "# to replace String 0 with int 0 , repetative values\n",
    "test['StateHoliday'].replace(to_replace=0, value='0', inplace=True, limit=None, regex=False, method='pad') "
   ]
  },
  {
   "cell_type": "code",
   "execution_count": 26,
   "metadata": {
    "colab": {
     "base_uri": "https://localhost:8080/"
    },
    "id": "slkv78IqbVq4",
    "outputId": "7ebfdd55-6cdc-40af-ea76-4fdaf11a4fcd"
   },
   "outputs": [
    {
     "data": {
      "text/plain": [
       "array(['0', 'a'], dtype=object)"
      ]
     },
     "execution_count": 26,
     "metadata": {},
     "output_type": "execute_result"
    }
   ],
   "source": [
    "test['StateHoliday'].unique()"
   ]
  },
  {
   "cell_type": "code",
   "execution_count": 27,
   "metadata": {
    "id": "HItpcPSynzpc"
   },
   "outputs": [],
   "source": [
    "test = pd.get_dummies(test,drop_first=True)"
   ]
  },
  {
   "cell_type": "code",
   "execution_count": 28,
   "metadata": {
    "id": "ZvXob-76n49v"
   },
   "outputs": [],
   "source": [
    "test = test.drop(columns=['Date','Id'])\n"
   ]
  },
  {
   "cell_type": "code",
   "execution_count": 29,
   "metadata": {
    "id": "Yj5oyn58qTGA"
   },
   "outputs": [],
   "source": [
    "test[[\"StateHoliday_b\",\"StateHoliday_c\"]]=0 #to balance columns in test"
   ]
  },
  {
   "cell_type": "code",
   "execution_count": 30,
   "metadata": {
    "colab": {
     "base_uri": "https://localhost:8080/"
    },
    "id": "D8SGlvj-qhx-",
    "outputId": "2088e003-286f-4595-d42b-febc09dbee24"
   },
   "outputs": [
    {
     "name": "stdout",
     "output_type": "stream",
     "text": [
      "<class 'pandas.core.frame.DataFrame'>\n",
      "RangeIndex: 41088 entries, 0 to 41087\n",
      "Data columns (total 11 columns):\n",
      " #   Column          Non-Null Count  Dtype  \n",
      "---  ------          --------------  -----  \n",
      " 0   Store           41088 non-null  int64  \n",
      " 1   DayOfWeek       41088 non-null  int64  \n",
      " 2   Open            41088 non-null  float64\n",
      " 3   Promo           41088 non-null  int64  \n",
      " 4   SchoolHoliday   41088 non-null  int64  \n",
      " 5   year            41088 non-null  int64  \n",
      " 6   month           41088 non-null  int64  \n",
      " 7   day             41088 non-null  int64  \n",
      " 8   StateHoliday_a  41088 non-null  uint8  \n",
      " 9   StateHoliday_b  41088 non-null  int64  \n",
      " 10  StateHoliday_c  41088 non-null  int64  \n",
      "dtypes: float64(1), int64(9), uint8(1)\n",
      "memory usage: 3.2 MB\n"
     ]
    }
   ],
   "source": [
    "test.info()"
   ]
  },
  {
   "cell_type": "markdown",
   "metadata": {
    "id": "B7SaK2vBwI4x"
   },
   "source": [
    "#Feature Selection\n",
    " by using Ginni Index"
   ]
  },
  {
   "cell_type": "code",
   "execution_count": 31,
   "metadata": {
    "id": "x1QS2CVsv2IL"
   },
   "outputs": [
    {
     "data": {
      "text/plain": [
       "array([3.73794842e-01, 3.46497230e-02, 4.60324724e-01, 7.31426930e-02,\n",
       "       3.75360891e-03, 5.68669614e-03, 2.40810463e-02, 2.39165471e-02,\n",
       "       4.46969768e-04, 1.94900146e-04, 8.24939004e-06])"
      ]
     },
     "execution_count": 31,
     "metadata": {},
     "output_type": "execute_result"
    }
   ],
   "source": [
    "# Gini index for feature selection\n",
    "\n",
    "model_dt = DecisionTreeRegressor()\n",
    "model_dt.fit(X,Y)\n",
    "model_dt.feature_importances_"
   ]
  },
  {
   "cell_type": "code",
   "execution_count": 32,
   "metadata": {
    "colab": {
     "base_uri": "https://localhost:8080/"
    },
    "id": "mmVwdxyxgX9r",
    "outputId": "d3fb6ccd-a0b9-4bab-a062-96ad63ad5de0"
   },
   "outputs": [
    {
     "name": "stdout",
     "output_type": "stream",
     "text": [
      "Store ----- 81.20242562407967\n",
      "DayOfWeek ----- 7.527234828275027\n",
      "Open ----- 100.0\n",
      "Promo ----- 15.889368777028876\n",
      "SchoolHoliday ----- 0.8154263094537074\n",
      "year ----- 1.2353662194106314\n",
      "month ----- 5.231317166880341\n",
      "day ----- 5.195581700206872\n",
      "StateHoliday_a ----- 0.09709879663143875\n",
      "StateHoliday_b ----- 0.04233970844460038\n",
      "StateHoliday_c ----- 0.0017920805920419555\n"
     ]
    },
    {
     "data": {
      "text/plain": [
       "['Store', 'Open', 'Promo']"
      ]
     },
     "execution_count": 32,
     "metadata": {},
     "output_type": "execute_result"
    }
   ],
   "source": [
    "m = max(model_dt.feature_importances_)\n",
    "for imp, col in zip(model_dt.feature_importances_,X.columns):\n",
    "    print(col, \"-----\",imp/m*100)\n",
    "m = max(model_dt.feature_importances_)\n",
    "lst = []\n",
    "for imp, col in zip(model_dt.feature_importances_,X.columns):\n",
    "    if (imp/m*100) > 10:\n",
    "      lst.append(col)\n",
    "#X_train.columns\n",
    "lst"
   ]
  },
  {
   "cell_type": "markdown",
   "metadata": {
    "id": "GAbO7b0Nggjg"
   },
   "source": [
    "By using Ginni index for selecting important features ,  we came to a conclusion that out of all the columns ['Store', 'Open', 'Promo'] are strongly influential. \n",
    "The data is mix of numerical and categorical.So concluding which feature is to be taken on the basis of gini index coeff. in not valid\n",
    "So selecting all the columns for bulding my model."
   ]
  },
  {
   "cell_type": "markdown",
   "metadata": {
    "id": "2iR0YKDR1t8h"
   },
   "source": [
    "#KNN"
   ]
  },
  {
   "cell_type": "code",
   "execution_count": 33,
   "metadata": {
    "colab": {
     "base_uri": "https://localhost:8080/"
    },
    "id": "xo-1e_5EhsPZ",
    "outputId": "375b2259-6f0f-40fb-f1b2-95893cece309"
   },
   "outputs": [
    {
     "name": "stdout",
     "output_type": "stream",
     "text": [
      "{'n_neighbors': array([ 1,  2,  3,  4,  5,  6,  7,  8,  9, 10, 11, 12, 13, 14, 15])}\n"
     ]
    }
   ],
   "source": [
    "parameters = {'n_neighbors': np.arange(1,16)}\n",
    "print(parameters)"
   ]
  },
  {
   "cell_type": "code",
   "execution_count": 34,
   "metadata": {
    "id": "50zvbWVqhvpR"
   },
   "outputs": [],
   "source": [
    "knn = KNeighborsRegressor()"
   ]
  },
  {
   "cell_type": "code",
   "execution_count": 35,
   "metadata": {
    "colab": {
     "base_uri": "https://localhost:8080/"
    },
    "id": "5xOd3yyQh1Fc",
    "outputId": "cc72c820-c4e8-4e0c-9263-935fcb09347f"
   },
   "outputs": [
    {
     "name": "stdout",
     "output_type": "stream",
     "text": [
      "Fitting 5 folds for each of 15 candidates, totalling 75 fits\n",
      "[CV 1/5] END .....................n_neighbors=1;, score=0.292 total time=  12.9s\n",
      "[CV 2/5] END .....................n_neighbors=1;, score=0.295 total time=  13.3s\n",
      "[CV 3/5] END .....................n_neighbors=1;, score=0.293 total time=  13.4s\n",
      "[CV 4/5] END .....................n_neighbors=1;, score=0.289 total time=  13.7s\n",
      "[CV 5/5] END .....................n_neighbors=1;, score=0.291 total time=  13.6s\n",
      "[CV 1/5] END .....................n_neighbors=2;, score=0.566 total time=  14.2s\n",
      "[CV 2/5] END .....................n_neighbors=2;, score=0.566 total time=  13.0s\n",
      "[CV 3/5] END .....................n_neighbors=2;, score=0.562 total time=  14.0s\n",
      "[CV 4/5] END .....................n_neighbors=2;, score=0.563 total time=  13.5s\n",
      "[CV 5/5] END .....................n_neighbors=2;, score=0.563 total time=  13.3s\n",
      "[CV 1/5] END .....................n_neighbors=3;, score=0.698 total time=  13.5s\n",
      "[CV 2/5] END .....................n_neighbors=3;, score=0.698 total time=  13.3s\n",
      "[CV 3/5] END .....................n_neighbors=3;, score=0.696 total time=  13.7s\n",
      "[CV 4/5] END .....................n_neighbors=3;, score=0.697 total time=  13.7s\n",
      "[CV 5/5] END .....................n_neighbors=3;, score=0.698 total time=  13.6s\n",
      "[CV 1/5] END .....................n_neighbors=4;, score=0.718 total time=  13.8s\n",
      "[CV 2/5] END .....................n_neighbors=4;, score=0.717 total time=  15.2s\n",
      "[CV 3/5] END .....................n_neighbors=4;, score=0.716 total time=  14.0s\n",
      "[CV 4/5] END .....................n_neighbors=4;, score=0.717 total time=  13.9s\n",
      "[CV 5/5] END .....................n_neighbors=4;, score=0.717 total time=  13.5s\n",
      "[CV 1/5] END .....................n_neighbors=5;, score=0.707 total time=  13.5s\n",
      "[CV 2/5] END .....................n_neighbors=5;, score=0.706 total time=  13.8s\n",
      "[CV 3/5] END .....................n_neighbors=5;, score=0.706 total time=  14.2s\n",
      "[CV 4/5] END .....................n_neighbors=5;, score=0.706 total time=  13.9s\n",
      "[CV 5/5] END .....................n_neighbors=5;, score=0.706 total time=  13.8s\n",
      "[CV 1/5] END .....................n_neighbors=6;, score=0.687 total time=  15.2s\n",
      "[CV 2/5] END .....................n_neighbors=6;, score=0.686 total time=  37.5s\n",
      "[CV 3/5] END .....................n_neighbors=6;, score=0.686 total time=  18.4s\n",
      "[CV 4/5] END .....................n_neighbors=6;, score=0.685 total time=  17.1s\n",
      "[CV 5/5] END .....................n_neighbors=6;, score=0.686 total time=  17.4s\n",
      "[CV 1/5] END .....................n_neighbors=7;, score=0.665 total time=  17.3s\n",
      "[CV 2/5] END .....................n_neighbors=7;, score=0.663 total time=  17.9s\n",
      "[CV 3/5] END .....................n_neighbors=7;, score=0.664 total time=  18.7s\n",
      "[CV 4/5] END .....................n_neighbors=7;, score=0.662 total time=  18.0s\n",
      "[CV 5/5] END .....................n_neighbors=7;, score=0.664 total time=  16.8s\n",
      "[CV 1/5] END .....................n_neighbors=8;, score=0.643 total time=  17.6s\n",
      "[CV 2/5] END .....................n_neighbors=8;, score=0.641 total time=  17.7s\n",
      "[CV 3/5] END .....................n_neighbors=8;, score=0.643 total time=  17.1s\n",
      "[CV 4/5] END .....................n_neighbors=8;, score=0.642 total time=  15.2s\n",
      "[CV 5/5] END .....................n_neighbors=8;, score=0.643 total time=  15.1s\n",
      "[CV 1/5] END .....................n_neighbors=9;, score=0.624 total time=  15.8s\n",
      "[CV 2/5] END .....................n_neighbors=9;, score=0.623 total time=  16.2s\n",
      "[CV 3/5] END .....................n_neighbors=9;, score=0.625 total time=  15.3s\n",
      "[CV 4/5] END .....................n_neighbors=9;, score=0.624 total time=  15.3s\n",
      "[CV 5/5] END .....................n_neighbors=9;, score=0.624 total time=  14.9s\n",
      "[CV 1/5] END ....................n_neighbors=10;, score=0.608 total time=  15.5s\n",
      "[CV 2/5] END ....................n_neighbors=10;, score=0.608 total time=  15.2s\n",
      "[CV 3/5] END ....................n_neighbors=10;, score=0.609 total time=  15.4s\n",
      "[CV 4/5] END ....................n_neighbors=10;, score=0.608 total time=  15.4s\n",
      "[CV 5/5] END ....................n_neighbors=10;, score=0.608 total time=  14.9s\n",
      "[CV 1/5] END ....................n_neighbors=11;, score=0.596 total time=  14.9s\n",
      "[CV 2/5] END ....................n_neighbors=11;, score=0.596 total time=  14.8s\n",
      "[CV 3/5] END ....................n_neighbors=11;, score=0.596 total time=  15.2s\n",
      "[CV 4/5] END ....................n_neighbors=11;, score=0.595 total time=  15.4s\n",
      "[CV 5/5] END ....................n_neighbors=11;, score=0.595 total time=  15.1s\n",
      "[CV 1/5] END ....................n_neighbors=12;, score=0.586 total time=  15.2s\n",
      "[CV 2/5] END ....................n_neighbors=12;, score=0.586 total time=  15.0s\n",
      "[CV 3/5] END ....................n_neighbors=12;, score=0.586 total time=  15.5s\n",
      "[CV 4/5] END ....................n_neighbors=12;, score=0.584 total time=  15.8s\n",
      "[CV 5/5] END ....................n_neighbors=12;, score=0.585 total time=  15.3s\n",
      "[CV 1/5] END ....................n_neighbors=13;, score=0.578 total time=  15.5s\n",
      "[CV 2/5] END ....................n_neighbors=13;, score=0.578 total time=  15.4s\n",
      "[CV 3/5] END ....................n_neighbors=13;, score=0.579 total time=  16.1s\n",
      "[CV 4/5] END ....................n_neighbors=13;, score=0.577 total time=  15.8s\n",
      "[CV 5/5] END ....................n_neighbors=13;, score=0.577 total time=  15.6s\n",
      "[CV 1/5] END ....................n_neighbors=14;, score=0.572 total time=  15.8s\n",
      "[CV 2/5] END ....................n_neighbors=14;, score=0.573 total time=  16.0s\n",
      "[CV 3/5] END ....................n_neighbors=14;, score=0.574 total time=  16.2s\n",
      "[CV 4/5] END ....................n_neighbors=14;, score=0.571 total time=  16.5s\n",
      "[CV 5/5] END ....................n_neighbors=14;, score=0.571 total time=  16.0s\n",
      "[CV 1/5] END ....................n_neighbors=15;, score=0.567 total time=  16.3s\n",
      "[CV 2/5] END ....................n_neighbors=15;, score=0.568 total time=  15.8s\n",
      "[CV 3/5] END ....................n_neighbors=15;, score=0.569 total time=  16.8s\n",
      "[CV 4/5] END ....................n_neighbors=15;, score=0.566 total time=  16.2s\n",
      "[CV 5/5] END ....................n_neighbors=15;, score=0.567 total time=  15.9s\n"
     ]
    },
    {
     "data": {
      "text/plain": [
       "GridSearchCV(cv=KFold(n_splits=5, random_state=2021, shuffle=True),\n",
       "             estimator=KNeighborsRegressor(),\n",
       "             param_grid={'n_neighbors': array([ 1,  2,  3,  4,  5,  6,  7,  8,  9, 10, 11, 12, 13, 14, 15])},\n",
       "             scoring='r2', verbose=3)"
      ]
     },
     "execution_count": 35,
     "metadata": {},
     "output_type": "execute_result"
    }
   ],
   "source": [
    "kfold = KFold(n_splits=5 , random_state=2021,shuffle=True)\n",
    "cv = GridSearchCV(knn, param_grid=parameters,cv=kfold,scoring='r2',verbose=3)\n",
    "cv.fit( X , Y )"
   ]
  },
  {
   "cell_type": "code",
   "execution_count": 36,
   "metadata": {
    "colab": {
     "base_uri": "https://localhost:8080/"
    },
    "id": "76Jpc52Xi5LZ",
    "outputId": "9cd07aa1-7e79-48d1-af90-675cb42bbe71"
   },
   "outputs": [
    {
     "name": "stdout",
     "output_type": "stream",
     "text": [
      "{'n_neighbors': 4}\n",
      "0.7171699840967332\n",
      "KNeighborsRegressor(n_neighbors=4)\n"
     ]
    }
   ],
   "source": [
    "#pd.DataFrame(cv.cv_results_  )\n",
    "print(cv.best_params_)\n",
    "print(cv.best_score_)\n",
    "\n",
    "print(cv.best_estimator_)"
   ]
  },
  {
   "cell_type": "code",
   "execution_count": 37,
   "metadata": {
    "id": "Krnd1_68j9Ow"
   },
   "outputs": [],
   "source": [
    "knn = KNeighborsRegressor(n_neighbors=4)\n",
    "knn.fit( X , Y )\n",
    "y_pred = knn.predict(test)\n",
    "\n",
    "# from sklearn.metrics import mean_squared_error,mean_absolute_error,r2_score\n",
    "# print( np.sqrt( mean_squared_error(y_test, y_pred)))\n",
    "# print(mean_absolute_error(y_test, y_pred))\n",
    "# print(r2_score(y_test, y_pred))"
   ]
  },
  {
   "cell_type": "code",
   "execution_count": 38,
   "metadata": {
    "colab": {
     "base_uri": "https://localhost:8080/"
    },
    "id": "B1coAAnDkhWB",
    "outputId": "243c5516-8703-4876-f864-a73a6dc8990c"
   },
   "outputs": [
    {
     "data": {
      "text/plain": [
       "array([ 4896.5 ,  7665.  ,  7148.75, ..., 10120.  , 13703.25, 14344.25])"
      ]
     },
     "execution_count": 38,
     "metadata": {},
     "output_type": "execute_result"
    }
   ],
   "source": [
    "y_pred"
   ]
  },
  {
   "cell_type": "code",
   "execution_count": 40,
   "metadata": {
    "colab": {
     "base_uri": "https://localhost:8080/",
     "height": 454
    },
    "id": "qpP4DPcRzF7c",
    "outputId": "0aebce24-af5e-46c1-bce7-dcd07fbd9410"
   },
   "outputs": [
    {
     "data": {
      "text/html": [
       "<div>\n",
       "<style scoped>\n",
       "    .dataframe tbody tr th:only-of-type {\n",
       "        vertical-align: middle;\n",
       "    }\n",
       "\n",
       "    .dataframe tbody tr th {\n",
       "        vertical-align: top;\n",
       "    }\n",
       "\n",
       "    .dataframe thead th {\n",
       "        text-align: right;\n",
       "    }\n",
       "</style>\n",
       "<table border=\"1\" class=\"dataframe\">\n",
       "  <thead>\n",
       "    <tr style=\"text-align: right;\">\n",
       "      <th></th>\n",
       "      <th>Sales</th>\n",
       "    </tr>\n",
       "    <tr>\n",
       "      <th>Id</th>\n",
       "      <th></th>\n",
       "    </tr>\n",
       "  </thead>\n",
       "  <tbody>\n",
       "    <tr>\n",
       "      <th>1</th>\n",
       "      <td>0</td>\n",
       "    </tr>\n",
       "    <tr>\n",
       "      <th>2</th>\n",
       "      <td>0</td>\n",
       "    </tr>\n",
       "    <tr>\n",
       "      <th>3</th>\n",
       "      <td>0</td>\n",
       "    </tr>\n",
       "    <tr>\n",
       "      <th>4</th>\n",
       "      <td>0</td>\n",
       "    </tr>\n",
       "    <tr>\n",
       "      <th>5</th>\n",
       "      <td>0</td>\n",
       "    </tr>\n",
       "    <tr>\n",
       "      <th>...</th>\n",
       "      <td>...</td>\n",
       "    </tr>\n",
       "    <tr>\n",
       "      <th>41084</th>\n",
       "      <td>0</td>\n",
       "    </tr>\n",
       "    <tr>\n",
       "      <th>41085</th>\n",
       "      <td>0</td>\n",
       "    </tr>\n",
       "    <tr>\n",
       "      <th>41086</th>\n",
       "      <td>0</td>\n",
       "    </tr>\n",
       "    <tr>\n",
       "      <th>41087</th>\n",
       "      <td>0</td>\n",
       "    </tr>\n",
       "    <tr>\n",
       "      <th>41088</th>\n",
       "      <td>0</td>\n",
       "    </tr>\n",
       "  </tbody>\n",
       "</table>\n",
       "<p>41088 rows × 1 columns</p>\n",
       "</div>"
      ],
      "text/plain": [
       "       Sales\n",
       "Id          \n",
       "1          0\n",
       "2          0\n",
       "3          0\n",
       "4          0\n",
       "5          0\n",
       "...      ...\n",
       "41084      0\n",
       "41085      0\n",
       "41086      0\n",
       "41087      0\n",
       "41088      0\n",
       "\n",
       "[41088 rows x 1 columns]"
      ]
     },
     "execution_count": 40,
     "metadata": {},
     "output_type": "execute_result"
    }
   ],
   "source": [
    "samp=pd.read_csv(r\"C:\\Users\\Abhinav\\C-DAC\\Machine Learning\\Data files Extra\\rossmann-store-sales\\sample_submission.csv\",index_col=0)\n",
    "samp"
   ]
  },
  {
   "cell_type": "code",
   "execution_count": 41,
   "metadata": {
    "colab": {
     "base_uri": "https://localhost:8080/",
     "height": 454
    },
    "id": "xmUlynNTzOE0",
    "outputId": "db4fb06d-8aa5-4181-efb5-74022f9f6f65"
   },
   "outputs": [
    {
     "data": {
      "text/html": [
       "<div>\n",
       "<style scoped>\n",
       "    .dataframe tbody tr th:only-of-type {\n",
       "        vertical-align: middle;\n",
       "    }\n",
       "\n",
       "    .dataframe tbody tr th {\n",
       "        vertical-align: top;\n",
       "    }\n",
       "\n",
       "    .dataframe thead th {\n",
       "        text-align: right;\n",
       "    }\n",
       "</style>\n",
       "<table border=\"1\" class=\"dataframe\">\n",
       "  <thead>\n",
       "    <tr style=\"text-align: right;\">\n",
       "      <th></th>\n",
       "      <th>Sales</th>\n",
       "    </tr>\n",
       "    <tr>\n",
       "      <th>Id</th>\n",
       "      <th></th>\n",
       "    </tr>\n",
       "  </thead>\n",
       "  <tbody>\n",
       "    <tr>\n",
       "      <th>1</th>\n",
       "      <td>4896.50</td>\n",
       "    </tr>\n",
       "    <tr>\n",
       "      <th>2</th>\n",
       "      <td>7665.00</td>\n",
       "    </tr>\n",
       "    <tr>\n",
       "      <th>3</th>\n",
       "      <td>7148.75</td>\n",
       "    </tr>\n",
       "    <tr>\n",
       "      <th>4</th>\n",
       "      <td>6839.00</td>\n",
       "    </tr>\n",
       "    <tr>\n",
       "      <th>5</th>\n",
       "      <td>6134.50</td>\n",
       "    </tr>\n",
       "    <tr>\n",
       "      <th>...</th>\n",
       "      <td>...</td>\n",
       "    </tr>\n",
       "    <tr>\n",
       "      <th>41084</th>\n",
       "      <td>4522.00</td>\n",
       "    </tr>\n",
       "    <tr>\n",
       "      <th>41085</th>\n",
       "      <td>6551.50</td>\n",
       "    </tr>\n",
       "    <tr>\n",
       "      <th>41086</th>\n",
       "      <td>10120.00</td>\n",
       "    </tr>\n",
       "    <tr>\n",
       "      <th>41087</th>\n",
       "      <td>13703.25</td>\n",
       "    </tr>\n",
       "    <tr>\n",
       "      <th>41088</th>\n",
       "      <td>14344.25</td>\n",
       "    </tr>\n",
       "  </tbody>\n",
       "</table>\n",
       "<p>41088 rows × 1 columns</p>\n",
       "</div>"
      ],
      "text/plain": [
       "          Sales\n",
       "Id             \n",
       "1       4896.50\n",
       "2       7665.00\n",
       "3       7148.75\n",
       "4       6839.00\n",
       "5       6134.50\n",
       "...         ...\n",
       "41084   4522.00\n",
       "41085   6551.50\n",
       "41086  10120.00\n",
       "41087  13703.25\n",
       "41088  14344.25\n",
       "\n",
       "[41088 rows x 1 columns]"
      ]
     },
     "execution_count": 41,
     "metadata": {},
     "output_type": "execute_result"
    }
   ],
   "source": [
    "samp[\"Sales\"]=y_pred\n",
    "samp"
   ]
  },
  {
   "cell_type": "code",
   "execution_count": 42,
   "metadata": {
    "id": "lM9xmvg7zZkd"
   },
   "outputs": [],
   "source": [
    "submit=pd.DataFrame(samp,columns=samp.columns)\n",
    "submit.to_csv(\"KNN_Rossman.csv\")"
   ]
  },
  {
   "cell_type": "markdown",
   "metadata": {
    "id": "M6bLebR62KAi"
   },
   "source": [
    "#linear Regression"
   ]
  },
  {
   "cell_type": "code",
   "execution_count": 43,
   "metadata": {
    "colab": {
     "base_uri": "https://localhost:8080/"
    },
    "id": "bCJ7DjrT0FIX",
    "outputId": "78657320-8a1f-40cb-d1a5-2c1df8f48634"
   },
   "outputs": [
    {
     "name": "stdout",
     "output_type": "stream",
     "text": [
      "[0.54063436 0.53786229 0.53778685 0.53595757 0.53780896]\n",
      "R-max: 0.54\n"
     ]
    }
   ],
   "source": [
    "regressor = LinearRegression()\n",
    "kfold = KFold(n_splits=5, random_state=2021,shuffle=True)\n",
    "results = cross_val_score(regressor, X, Y, cv=kfold, \n",
    "                          scoring='r2')\n",
    "R2 = results\n",
    "print(R2)\n",
    "print(\"R-max: %.2f\" % (R2.max()))"
   ]
  },
  {
   "cell_type": "code",
   "execution_count": 44,
   "metadata": {
    "colab": {
     "base_uri": "https://localhost:8080/"
    },
    "id": "MS0OtsUi1LIb",
    "outputId": "bdaf8d3e-2c6f-426a-cce3-756dcaba3a34"
   },
   "outputs": [
    {
     "name": "stdout",
     "output_type": "stream",
     "text": [
      "[ 6.05072877e-02 -1.40729827e+02  5.56293698e+03  2.07660777e+03\n",
      "  8.74830840e+01  1.71936170e+02  6.85313754e+01 -2.58591484e+00\n",
      " -1.13517860e+03 -1.44722699e+03 -7.35943676e+02]\n",
      "-345698.59771708306\n"
     ]
    }
   ],
   "source": [
    "regressor = LinearRegression()\n",
    "regressor.fit(X, Y)\n",
    "print(regressor.coef_)\n",
    "print(regressor.intercept_)\n",
    "\n",
    "y_pred_linear = regressor.predict(test)\n"
   ]
  },
  {
   "cell_type": "code",
   "execution_count": 45,
   "metadata": {
    "colab": {
     "base_uri": "https://localhost:8080/",
     "height": 454
    },
    "id": "4b6F1awL16Wc",
    "outputId": "ea64516d-44f0-451b-ddaf-f038a4643ce2"
   },
   "outputs": [
    {
     "data": {
      "text/html": [
       "<div>\n",
       "<style scoped>\n",
       "    .dataframe tbody tr th:only-of-type {\n",
       "        vertical-align: middle;\n",
       "    }\n",
       "\n",
       "    .dataframe tbody tr th {\n",
       "        vertical-align: top;\n",
       "    }\n",
       "\n",
       "    .dataframe thead th {\n",
       "        text-align: right;\n",
       "    }\n",
       "</style>\n",
       "<table border=\"1\" class=\"dataframe\">\n",
       "  <thead>\n",
       "    <tr style=\"text-align: right;\">\n",
       "      <th></th>\n",
       "      <th>Sales</th>\n",
       "    </tr>\n",
       "    <tr>\n",
       "      <th>Id</th>\n",
       "      <th></th>\n",
       "    </tr>\n",
       "  </thead>\n",
       "  <tbody>\n",
       "    <tr>\n",
       "      <th>1</th>\n",
       "      <td>8402.292419</td>\n",
       "    </tr>\n",
       "    <tr>\n",
       "      <th>2</th>\n",
       "      <td>8402.413434</td>\n",
       "    </tr>\n",
       "    <tr>\n",
       "      <th>3</th>\n",
       "      <td>8402.655463</td>\n",
       "    </tr>\n",
       "    <tr>\n",
       "      <th>4</th>\n",
       "      <td>8402.715970</td>\n",
       "    </tr>\n",
       "    <tr>\n",
       "      <th>5</th>\n",
       "      <td>8402.776477</td>\n",
       "    </tr>\n",
       "    <tr>\n",
       "      <th>...</th>\n",
       "      <td>...</td>\n",
       "    </tr>\n",
       "    <tr>\n",
       "      <th>41084</th>\n",
       "      <td>6084.231343</td>\n",
       "    </tr>\n",
       "    <tr>\n",
       "      <th>41085</th>\n",
       "      <td>6084.291850</td>\n",
       "    </tr>\n",
       "    <tr>\n",
       "      <th>41086</th>\n",
       "      <td>6084.352357</td>\n",
       "    </tr>\n",
       "    <tr>\n",
       "      <th>41087</th>\n",
       "      <td>6084.412865</td>\n",
       "    </tr>\n",
       "    <tr>\n",
       "      <th>41088</th>\n",
       "      <td>6171.956456</td>\n",
       "    </tr>\n",
       "  </tbody>\n",
       "</table>\n",
       "<p>41088 rows × 1 columns</p>\n",
       "</div>"
      ],
      "text/plain": [
       "             Sales\n",
       "Id                \n",
       "1      8402.292419\n",
       "2      8402.413434\n",
       "3      8402.655463\n",
       "4      8402.715970\n",
       "5      8402.776477\n",
       "...            ...\n",
       "41084  6084.231343\n",
       "41085  6084.291850\n",
       "41086  6084.352357\n",
       "41087  6084.412865\n",
       "41088  6171.956456\n",
       "\n",
       "[41088 rows x 1 columns]"
      ]
     },
     "execution_count": 45,
     "metadata": {},
     "output_type": "execute_result"
    }
   ],
   "source": [
    "samp[\"Sales\"]=y_pred_linear\n",
    "samp"
   ]
  },
  {
   "cell_type": "code",
   "execution_count": 46,
   "metadata": {
    "id": "GSOI4sXY2FgI"
   },
   "outputs": [],
   "source": [
    "submit=pd.DataFrame(samp,columns=samp.columns)\n",
    "submit.to_csv(\"Linear_Rossman.csv\")"
   ]
  },
  {
   "cell_type": "markdown",
   "metadata": {
    "id": "G8lFlrf5cuN4"
   },
   "source": [
    "#Lasso"
   ]
  },
  {
   "cell_type": "code",
   "execution_count": 47,
   "metadata": {
    "colab": {
     "base_uri": "https://localhost:8080/"
    },
    "id": "6o07icm6cspE",
    "outputId": "13c99784-8045-40b2-ac12-f3c572842166"
   },
   "outputs": [
    {
     "name": "stdout",
     "output_type": "stream",
     "text": [
      "{'alpha': 0.001}\n",
      "0.5380100053411366\n",
      "Lasso(alpha=0.001)\n",
      "[ 6.05072776e-02 -1.40728289e+02  5.56295981e+03  2.07660323e+03\n",
      "  8.74629923e+01  1.71934079e+02  6.85310579e+01 -2.58592386e+00\n",
      " -1.13510406e+03 -1.44703578e+03 -7.35657029e+02]\n",
      "-345694.4094828365\n"
     ]
    }
   ],
   "source": [
    "from sklearn.linear_model import Lasso\n",
    "parameters = dict(alpha=np.linspace(0.001,40))\n",
    "from sklearn.model_selection import GridSearchCV\n",
    "clf = Lasso()\n",
    "from sklearn.model_selection import KFold\n",
    "kfold = KFold(n_splits=5, random_state=2021,shuffle=True)\n",
    "cv = GridSearchCV(clf, param_grid=parameters,\n",
    "                  cv=kfold,scoring='r2')\n",
    "\n",
    "cv.fit(X,Y)\n",
    "\n",
    "# Best Parameters\n",
    "print(cv.best_params_)\n",
    "\n",
    "print(cv.best_score_)\n",
    "\n",
    "print(cv.best_estimator_)\n",
    "\n",
    "best_model = cv.best_estimator_\n",
    "print(best_model.coef_)\n",
    "print(best_model.intercept_)\n",
    "#print(best_model.sparse_coef_)"
   ]
  },
  {
   "cell_type": "code",
   "execution_count": 48,
   "metadata": {
    "id": "QsxT2WrMhNGa"
   },
   "outputs": [],
   "source": [
    "clf = Lasso(alpha=0.001)\n",
    "clf.fit(X,Y) \n",
    "\n",
    "y_pred_Lasso = clf.predict(test)\n"
   ]
  },
  {
   "cell_type": "code",
   "execution_count": 49,
   "metadata": {
    "colab": {
     "base_uri": "https://localhost:8080/",
     "height": 454
    },
    "id": "D9m-KvOfhtJ6",
    "outputId": "c62a2ce9-388a-4283-d367-fd65ab90a389"
   },
   "outputs": [
    {
     "data": {
      "text/html": [
       "<div>\n",
       "<style scoped>\n",
       "    .dataframe tbody tr th:only-of-type {\n",
       "        vertical-align: middle;\n",
       "    }\n",
       "\n",
       "    .dataframe tbody tr th {\n",
       "        vertical-align: top;\n",
       "    }\n",
       "\n",
       "    .dataframe thead th {\n",
       "        text-align: right;\n",
       "    }\n",
       "</style>\n",
       "<table border=\"1\" class=\"dataframe\">\n",
       "  <thead>\n",
       "    <tr style=\"text-align: right;\">\n",
       "      <th></th>\n",
       "      <th>Sales</th>\n",
       "    </tr>\n",
       "    <tr>\n",
       "      <th>Id</th>\n",
       "      <th></th>\n",
       "    </tr>\n",
       "  </thead>\n",
       "  <tbody>\n",
       "    <tr>\n",
       "      <th>1</th>\n",
       "      <td>8402.289733</td>\n",
       "    </tr>\n",
       "    <tr>\n",
       "      <th>2</th>\n",
       "      <td>8402.410747</td>\n",
       "    </tr>\n",
       "    <tr>\n",
       "      <th>3</th>\n",
       "      <td>8402.652776</td>\n",
       "    </tr>\n",
       "    <tr>\n",
       "      <th>4</th>\n",
       "      <td>8402.713284</td>\n",
       "    </tr>\n",
       "    <tr>\n",
       "      <th>5</th>\n",
       "      <td>8402.773791</td>\n",
       "    </tr>\n",
       "    <tr>\n",
       "      <th>...</th>\n",
       "      <td>...</td>\n",
       "    </tr>\n",
       "    <tr>\n",
       "      <th>41084</th>\n",
       "      <td>6084.236730</td>\n",
       "    </tr>\n",
       "    <tr>\n",
       "      <th>41085</th>\n",
       "      <td>6084.297237</td>\n",
       "    </tr>\n",
       "    <tr>\n",
       "      <th>41086</th>\n",
       "      <td>6084.357744</td>\n",
       "    </tr>\n",
       "    <tr>\n",
       "      <th>41087</th>\n",
       "      <td>6084.418252</td>\n",
       "    </tr>\n",
       "    <tr>\n",
       "      <th>41088</th>\n",
       "      <td>6171.941751</td>\n",
       "    </tr>\n",
       "  </tbody>\n",
       "</table>\n",
       "<p>41088 rows × 1 columns</p>\n",
       "</div>"
      ],
      "text/plain": [
       "             Sales\n",
       "Id                \n",
       "1      8402.289733\n",
       "2      8402.410747\n",
       "3      8402.652776\n",
       "4      8402.713284\n",
       "5      8402.773791\n",
       "...            ...\n",
       "41084  6084.236730\n",
       "41085  6084.297237\n",
       "41086  6084.357744\n",
       "41087  6084.418252\n",
       "41088  6171.941751\n",
       "\n",
       "[41088 rows x 1 columns]"
      ]
     },
     "execution_count": 49,
     "metadata": {},
     "output_type": "execute_result"
    }
   ],
   "source": [
    "samp[\"Sales\"]=y_pred_Lasso\n",
    "samp"
   ]
  },
  {
   "cell_type": "code",
   "execution_count": 50,
   "metadata": {
    "id": "v9T2FeVqh8yn"
   },
   "outputs": [],
   "source": [
    "submit=pd.DataFrame(samp,columns=samp.columns)\n",
    "submit.to_csv(\"Lasso_Rossman.csv\")"
   ]
  },
  {
   "cell_type": "code",
   "execution_count": 51,
   "metadata": {
    "colab": {
     "base_uri": "https://localhost:8080/"
    },
    "id": "3uBhZAIEitgz",
    "outputId": "cf61a5c7-fb31-4f9c-e891-59d61844b209"
   },
   "outputs": [
    {
     "name": "stdout",
     "output_type": "stream",
     "text": [
      "{'alpha': 4.090612244897959}\n",
      "0.5380100063208194\n"
     ]
    },
    {
     "data": {
      "text/plain": [
       "Ridge(alpha=4.090612244897959)"
      ]
     },
     "execution_count": 51,
     "metadata": {},
     "output_type": "execute_result"
    }
   ],
   "source": [
    "parameters = dict(alpha=np.linspace(0.01,40))\n",
    "\n",
    "clf = Ridge()\n",
    "kfold = KFold(n_splits=5, random_state=2021,shuffle=True)\n",
    "cv = GridSearchCV(clf, param_grid=parameters,\n",
    "                  cv=kfold,scoring='r2')\n",
    "\n",
    "cv.fit(X,Y)\n",
    "\n",
    "df_cv = pd.DataFrame(cv.cv_results_)\n",
    "\n",
    "# Best Parameters\n",
    "print(cv.best_params_)\n",
    "\n",
    "print(cv.best_score_)\n",
    "\n",
    "cv.best_estimator_"
   ]
  },
  {
   "cell_type": "code",
   "execution_count": 52,
   "metadata": {
    "id": "Z85MkQuClLoE"
   },
   "outputs": [],
   "source": [
    "clf = Ridge(alpha=4.090612244897959)\n",
    "clf.fit(X,Y) \n",
    "y_pred_Ridge = clf.predict(test)\n"
   ]
  },
  {
   "cell_type": "code",
   "execution_count": 53,
   "metadata": {
    "colab": {
     "base_uri": "https://localhost:8080/",
     "height": 454
    },
    "id": "Bt6cRhXAl1ag",
    "outputId": "bee9e674-aaba-40b2-9aea-a84a3f323cd3"
   },
   "outputs": [
    {
     "data": {
      "text/html": [
       "<div>\n",
       "<style scoped>\n",
       "    .dataframe tbody tr th:only-of-type {\n",
       "        vertical-align: middle;\n",
       "    }\n",
       "\n",
       "    .dataframe tbody tr th {\n",
       "        vertical-align: top;\n",
       "    }\n",
       "\n",
       "    .dataframe thead th {\n",
       "        text-align: right;\n",
       "    }\n",
       "</style>\n",
       "<table border=\"1\" class=\"dataframe\">\n",
       "  <thead>\n",
       "    <tr style=\"text-align: right;\">\n",
       "      <th></th>\n",
       "      <th>Sales</th>\n",
       "    </tr>\n",
       "    <tr>\n",
       "      <th>Id</th>\n",
       "      <th></th>\n",
       "    </tr>\n",
       "  </thead>\n",
       "  <tbody>\n",
       "    <tr>\n",
       "      <th>1</th>\n",
       "      <td>8402.251221</td>\n",
       "    </tr>\n",
       "    <tr>\n",
       "      <th>2</th>\n",
       "      <td>8402.372235</td>\n",
       "    </tr>\n",
       "    <tr>\n",
       "      <th>3</th>\n",
       "      <td>8402.614265</td>\n",
       "    </tr>\n",
       "    <tr>\n",
       "      <th>4</th>\n",
       "      <td>8402.674772</td>\n",
       "    </tr>\n",
       "    <tr>\n",
       "      <th>5</th>\n",
       "      <td>8402.735279</td>\n",
       "    </tr>\n",
       "    <tr>\n",
       "      <th>...</th>\n",
       "      <td>...</td>\n",
       "    </tr>\n",
       "    <tr>\n",
       "      <th>41084</th>\n",
       "      <td>6084.183896</td>\n",
       "    </tr>\n",
       "    <tr>\n",
       "      <th>41085</th>\n",
       "      <td>6084.244403</td>\n",
       "    </tr>\n",
       "    <tr>\n",
       "      <th>41086</th>\n",
       "      <td>6084.304910</td>\n",
       "    </tr>\n",
       "    <tr>\n",
       "      <th>41087</th>\n",
       "      <td>6084.365418</td>\n",
       "    </tr>\n",
       "    <tr>\n",
       "      <th>41088</th>\n",
       "      <td>6171.858969</td>\n",
       "    </tr>\n",
       "  </tbody>\n",
       "</table>\n",
       "<p>41088 rows × 1 columns</p>\n",
       "</div>"
      ],
      "text/plain": [
       "             Sales\n",
       "Id                \n",
       "1      8402.251221\n",
       "2      8402.372235\n",
       "3      8402.614265\n",
       "4      8402.674772\n",
       "5      8402.735279\n",
       "...            ...\n",
       "41084  6084.183896\n",
       "41085  6084.244403\n",
       "41086  6084.304910\n",
       "41087  6084.365418\n",
       "41088  6171.858969\n",
       "\n",
       "[41088 rows x 1 columns]"
      ]
     },
     "execution_count": 53,
     "metadata": {},
     "output_type": "execute_result"
    }
   ],
   "source": [
    "samp[\"Sales\"]=y_pred_Ridge\n",
    "samp"
   ]
  },
  {
   "cell_type": "code",
   "execution_count": 54,
   "metadata": {
    "id": "6denIF7kl8qG"
   },
   "outputs": [],
   "source": [
    "submit=pd.DataFrame(samp,columns=samp.columns)\n",
    "submit.to_csv(\"Ridge_Rossman.csv\")"
   ]
  },
  {
   "cell_type": "markdown",
   "metadata": {
    "id": "bxE-UQYtmuXD"
   },
   "source": [
    "#Decision Tree "
   ]
  },
  {
   "cell_type": "code",
   "execution_count": 55,
   "metadata": {
    "colab": {
     "base_uri": "https://localhost:8080/"
    },
    "id": "3LUiYSyMnowA",
    "outputId": "7b3de995-f7e5-4aba-d99c-4eea4544aa42"
   },
   "outputs": [
    {
     "name": "stdout",
     "output_type": "stream",
     "text": [
      "{'max_depth': 9, 'min_samples_leaf': 5, 'min_samples_split': 5}\n",
      "0.5972243543578598\n"
     ]
    },
    {
     "data": {
      "text/plain": [
       "DecisionTreeRegressor(max_depth=9, min_samples_leaf=5, min_samples_split=5,\n",
       "                      random_state=2021)"
      ]
     },
     "execution_count": 55,
     "metadata": {},
     "output_type": "execute_result"
    }
   ],
   "source": [
    "depth_range = [3,4,5,6,7,8,9]\n",
    "minsplit_range = [5,10,20,25,30]\n",
    "minleaf_range = [5,10,15]\n",
    "\n",
    "parameters = dict(max_depth=depth_range,\n",
    "                  min_samples_split=minsplit_range, \n",
    "                  min_samples_leaf=minleaf_range)\n",
    "\n",
    "kfold = KFold(n_splits=5, random_state=2021,shuffle=True)\n",
    "clf = DecisionTreeRegressor(random_state=2021)\n",
    "cv = GridSearchCV(clf, param_grid=parameters,\n",
    "                  cv=kfold,scoring='r2')\n",
    "\n",
    "cv.fit(X,Y)\n",
    "# Best Parameters\n",
    "print(cv.best_params_)\n",
    "\n",
    "print(cv.best_score_)\n",
    "\n",
    "cv.best_estimator_"
   ]
  },
  {
   "cell_type": "code",
   "execution_count": 56,
   "metadata": {
    "id": "W39xf818su-q"
   },
   "outputs": [],
   "source": [
    "clf = DecisionTreeRegressor(max_depth=9,random_state=2020)\n",
    "clf2 = clf.fit(X,Y)\n",
    "\n",
    "y_pred_DTR = clf2.predict(test)"
   ]
  },
  {
   "cell_type": "code",
   "execution_count": 57,
   "metadata": {
    "colab": {
     "base_uri": "https://localhost:8080/",
     "height": 454
    },
    "id": "mAnkSIDFtHwO",
    "outputId": "c9c470bd-261f-4ffb-f6d8-8dc8f388296f"
   },
   "outputs": [
    {
     "data": {
      "text/html": [
       "<div>\n",
       "<style scoped>\n",
       "    .dataframe tbody tr th:only-of-type {\n",
       "        vertical-align: middle;\n",
       "    }\n",
       "\n",
       "    .dataframe tbody tr th {\n",
       "        vertical-align: top;\n",
       "    }\n",
       "\n",
       "    .dataframe thead th {\n",
       "        text-align: right;\n",
       "    }\n",
       "</style>\n",
       "<table border=\"1\" class=\"dataframe\">\n",
       "  <thead>\n",
       "    <tr style=\"text-align: right;\">\n",
       "      <th></th>\n",
       "      <th>Sales</th>\n",
       "    </tr>\n",
       "    <tr>\n",
       "      <th>Id</th>\n",
       "      <th></th>\n",
       "    </tr>\n",
       "  </thead>\n",
       "  <tbody>\n",
       "    <tr>\n",
       "      <th>1</th>\n",
       "      <td>7303.918210</td>\n",
       "    </tr>\n",
       "    <tr>\n",
       "      <th>2</th>\n",
       "      <td>7303.918210</td>\n",
       "    </tr>\n",
       "    <tr>\n",
       "      <th>3</th>\n",
       "      <td>7303.918210</td>\n",
       "    </tr>\n",
       "    <tr>\n",
       "      <th>4</th>\n",
       "      <td>7303.918210</td>\n",
       "    </tr>\n",
       "    <tr>\n",
       "      <th>5</th>\n",
       "      <td>7303.918210</td>\n",
       "    </tr>\n",
       "    <tr>\n",
       "      <th>...</th>\n",
       "      <td>...</td>\n",
       "    </tr>\n",
       "    <tr>\n",
       "      <th>41084</th>\n",
       "      <td>5421.946043</td>\n",
       "    </tr>\n",
       "    <tr>\n",
       "      <th>41085</th>\n",
       "      <td>5421.946043</td>\n",
       "    </tr>\n",
       "    <tr>\n",
       "      <th>41086</th>\n",
       "      <td>5421.946043</td>\n",
       "    </tr>\n",
       "    <tr>\n",
       "      <th>41087</th>\n",
       "      <td>21579.894231</td>\n",
       "    </tr>\n",
       "    <tr>\n",
       "      <th>41088</th>\n",
       "      <td>9665.000000</td>\n",
       "    </tr>\n",
       "  </tbody>\n",
       "</table>\n",
       "<p>41088 rows × 1 columns</p>\n",
       "</div>"
      ],
      "text/plain": [
       "              Sales\n",
       "Id                 \n",
       "1       7303.918210\n",
       "2       7303.918210\n",
       "3       7303.918210\n",
       "4       7303.918210\n",
       "5       7303.918210\n",
       "...             ...\n",
       "41084   5421.946043\n",
       "41085   5421.946043\n",
       "41086   5421.946043\n",
       "41087  21579.894231\n",
       "41088   9665.000000\n",
       "\n",
       "[41088 rows x 1 columns]"
      ]
     },
     "execution_count": 57,
     "metadata": {},
     "output_type": "execute_result"
    }
   ],
   "source": [
    "samp[\"Sales\"]=y_pred_DTR\n",
    "samp"
   ]
  },
  {
   "cell_type": "code",
   "execution_count": 58,
   "metadata": {
    "id": "T8n6DhW-tRkq"
   },
   "outputs": [],
   "source": [
    "submit=pd.DataFrame(samp,columns=samp.columns)\n",
    "submit.to_csv(\"DTR_Rossman.csv\")"
   ]
  },
  {
   "cell_type": "markdown",
   "metadata": {
    "id": "PkTVXsay76N-"
   },
   "source": [
    "# 3. Build a regression model using Sales as response variable"
   ]
  },
  {
   "cell_type": "markdown",
   "metadata": {
    "id": "pCSeHkgg9IQL"
   },
   "source": [
    "### Conclusion:\n",
    "Which score is better on the leader board among all the above algorithms tried?"
   ]
  },
  {
   "cell_type": "markdown",
   "metadata": {
    "id": "pCSeHkgg9IQL"
   },
   "source": [
    "The best score is 0.717 for KNN regression model."
   ]
  }
 ],
 "metadata": {
  "colab": {
   "collapsed_sections": [],
   "name": "Rossmann Store Sales.ipynb",
   "provenance": []
  },
  "kernelspec": {
   "display_name": "Python 3",
   "language": "python",
   "name": "python3"
  },
  "language_info": {
   "codemirror_mode": {
    "name": "ipython",
    "version": 3
   },
   "file_extension": ".py",
   "mimetype": "text/x-python",
   "name": "python",
   "nbconvert_exporter": "python",
   "pygments_lexer": "ipython3",
   "version": "3.8.8"
  }
 },
 "nbformat": 4,
 "nbformat_minor": 1
}
